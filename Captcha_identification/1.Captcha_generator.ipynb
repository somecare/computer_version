{
 "cells": [
  {
   "cell_type": "code",
   "execution_count": 1,
   "metadata": {},
   "outputs": [],
   "source": [
    "from captcha.image import ImageCaptcha\n",
    "import numpy as np\n",
    "from PIL import Image\n",
    "import random\n",
    "import sys\n",
    "\n"
   ]
  },
  {
   "cell_type": "code",
   "execution_count": 16,
   "metadata": {},
   "outputs": [
    {
     "name": "stdout",
     "output_type": "stream",
     "text": [
      ">>Creating image 6000/6000\n",
      "生成完毕\n"
     ]
    }
   ],
   "source": [
    "#验证码随机成分，也可加入字母\n",
    "number = '0,1,2,3,4,5,6,7,8,9'.split(',')\n",
    "\n",
    "def random_captcha_text(char_set=number,captcha_size=4):\n",
    "    #验证码列表\n",
    "    captcha_text = []\n",
    "    for i in range(captcha_size):\n",
    "        c = random.choice(char_set)\n",
    "        captcha_text.append(c)\n",
    "\n",
    "    return captcha_text\n",
    "\n",
    "#生成对应的图形验证码，名字就是验证码内容\n",
    "\n",
    "def gen_captcha_text_and_image():\n",
    "    image = ImageCaptcha()\n",
    "    captcha_text = random_captcha_text()\n",
    "    #转换为字符串\n",
    "    captcha_text = ''.join(captcha_text)\n",
    "    #生成验证码并写入文件\n",
    "    captcha = image.generate(captcha_text)\n",
    "    #若有重复会覆盖\n",
    "    image.write(captcha_text,'captcha/'+captcha_text+'.jpg')\n",
    "    \n",
    "    \n",
    "num = 6000\n",
    "\n",
    "if __name__ == '__main__':\n",
    "    for i in range(num):\n",
    "        gen_captcha_text_and_image()\n",
    "        sys.stdout.write('\\r>>Creating image %d/%d'%(i+1,num))\n",
    "        sys.stdout.flush()\n",
    "        \n",
    "    sys.stdout.write('\\n')\n",
    "    sys.stdout.flush()\n",
    "    print('生成完毕')"
   ]
  }
 ],
 "metadata": {
  "kernelspec": {
   "display_name": "Python 3",
   "language": "python",
   "name": "python3"
  },
  "language_info": {
   "codemirror_mode": {
    "name": "ipython",
    "version": 3
   },
   "file_extension": ".py",
   "mimetype": "text/x-python",
   "name": "python",
   "nbconvert_exporter": "python",
   "pygments_lexer": "ipython3",
   "version": "3.6.6"
  }
 },
 "nbformat": 4,
 "nbformat_minor": 2
}
